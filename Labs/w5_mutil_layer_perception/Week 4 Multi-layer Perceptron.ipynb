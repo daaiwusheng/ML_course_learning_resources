{
 "cells": [
  {
   "cell_type": "code",
   "execution_count": 1,
   "metadata": {},
   "outputs": [],
   "source": [
    "import numpy as np"
   ]
  },
  {
   "cell_type": "markdown",
   "metadata": {},
   "source": [
    "#### In this lab, we will implement the multi-layer perceptron (MLP) algorithm for a single neuron. "
   ]
  },
  {
   "cell_type": "markdown",
   "metadata": {},
   "source": [
    "![The Multi-layer Perceptron Algorithm](mlp.png)"
   ]
  },
  {
   "cell_type": "code",
   "execution_count": 2,
   "metadata": {},
   "outputs": [
    {
     "data": {
      "text/plain": [
       "array([[0, 0, 0],\n",
       "       [0, 1, 1],\n",
       "       [1, 0, 1],\n",
       "       [1, 1, 0]])"
      ]
     },
     "execution_count": 2,
     "metadata": {},
     "output_type": "execute_result"
    }
   ],
   "source": [
    "# let's implement the MLP algorithm on the XOR logic function\n",
    "# In last week tutorial on single layer perceptron, we saw \n",
    "# it's implossible to get 100% accuracy on the XOR logic table (why?)\n",
    "# now let's see if multi-layer perceptron, we will perform better\n",
    "xordata = np.array([[0,0,0],[0,1,1],[1,0,1],[1,1,0]])\n",
    "xordata"
   ]
  },
  {
   "cell_type": "code",
   "execution_count": 3,
   "metadata": {},
   "outputs": [
    {
     "data": {
      "text/plain": [
       "array([[0, 0],\n",
       "       [0, 1],\n",
       "       [1, 0],\n",
       "       [1, 1]])"
      ]
     },
     "execution_count": 3,
     "metadata": {},
     "output_type": "execute_result"
    }
   ],
   "source": [
    "# The inputs\n",
    "inputs = xordata[:,:2]\n",
    "inputs"
   ]
  },
  {
   "cell_type": "code",
   "execution_count": 4,
   "metadata": {},
   "outputs": [
    {
     "data": {
      "text/plain": [
       "array([[0],\n",
       "       [1],\n",
       "       [1],\n",
       "       [0]])"
      ]
     },
     "execution_count": 4,
     "metadata": {},
     "output_type": "execute_result"
    }
   ],
   "source": [
    "# the targets \n",
    "targets = xordata[:,2:]\n",
    "targets"
   ]
  },
  {
   "cell_type": "code",
   "execution_count": 5,
   "metadata": {},
   "outputs": [],
   "source": [
    "# we will implement two layer perceptron: one hidden layer and one output layer \n",
    "# we will need to initialise two weights matrices, one for each layer. \n",
    "# the shape of hidden-layer weights matrix is deterimned by the samples features\n",
    "# and by the number of hidden neurons. The shape of the output-layer weights matrix    \n",
    "# is determined by the number of hidden neurons and the number of outputs\n",
    "nin = np.shape(inputs)[1]\n",
    "nout = np.shape(targets)[1]\n",
    "nhidden = 2 # this is chosen to be small because our dataset is small but you could try different number \n",
    "\n",
    "weights1 = (np.random.rand(nin+1,nhidden)-0.5)*2/np.sqrt(nin) # hidden-layer weights\n",
    "weights2 = (np.random.rand(nhidden+1,nout)-0.5)*2/np.sqrt(nhidden) # output-layer weights"
   ]
  },
  {
   "cell_type": "code",
   "execution_count": 6,
   "metadata": {},
   "outputs": [
    {
     "data": {
      "text/plain": [
       "array([[ 0.,  0., -1.],\n",
       "       [ 0.,  1., -1.],\n",
       "       [ 1.,  0., -1.],\n",
       "       [ 1.,  1., -1.]])"
      ]
     },
     "execution_count": 6,
     "metadata": {},
     "output_type": "execute_result"
    }
   ],
   "source": [
    "# adding bias to the inputs \n",
    "ndata = np.shape(inputs)[0] # number of samples\n",
    "inputs = np.concatenate((inputs,-np.ones((ndata,1))),axis=1)\n",
    "inputs"
   ]
  },
  {
   "cell_type": "code",
   "execution_count": 7,
   "metadata": {},
   "outputs": [],
   "source": [
    "# this is empty arrays to store the update weights \n",
    "updatew1 = np.zeros((np.shape(weights1)))\n",
    "updatew2 = np.zeros((np.shape(weights2)))"
   ]
  },
  {
   "cell_type": "code",
   "execution_count": 8,
   "metadata": {},
   "outputs": [
    {
     "name": "stdout",
     "output_type": "stream",
     "text": [
      "Iteration:  0  Error:  1.134623161951452\n",
      "Iteration:  100  Error:  0.49981744613292806\n",
      "Iteration:  200  Error:  0.4996613639787801\n",
      "Iteration:  300  Error:  0.49952063664936097\n",
      "Iteration:  400  Error:  0.4993863472207074\n",
      "Iteration:  500  Error:  0.4992515920645631\n",
      "Iteration:  600  Error:  0.49911040401164175\n",
      "Iteration:  700  Error:  0.4989570231518919\n",
      "Iteration:  800  Error:  0.4987853216491853\n",
      "Iteration:  900  Error:  0.49858826443819326\n",
      "Iteration:  1000  Error:  0.4983573180264609\n",
      "Iteration:  1100  Error:  0.4980817250574452\n",
      "Iteration:  1200  Error:  0.49774755062878073\n",
      "Iteration:  1300  Error:  0.49733637980603135\n",
      "Iteration:  1400  Error:  0.4968235042505834\n",
      "Iteration:  1500  Error:  0.49617538004674167\n",
      "Iteration:  1600  Error:  0.49534607512196066\n",
      "Iteration:  1700  Error:  0.49427237540748625\n",
      "Iteration:  1800  Error:  0.49286724001229093\n",
      "Iteration:  1900  Error:  0.4910114979895231\n",
      "Iteration:  2000  Error:  0.4885442153576584\n",
      "Iteration:  2100  Error:  0.4852530305829946\n",
      "Iteration:  2200  Error:  0.4808660197574238\n",
      "Iteration:  2300  Error:  0.47504224419559926\n",
      "Iteration:  2400  Error:  0.4673375171920159\n",
      "Iteration:  2500  Error:  0.45706120803011785\n",
      "Iteration:  2600  Error:  0.4428097865842043\n",
      "Iteration:  2700  Error:  0.4213112841245164\n",
      "Iteration:  2800  Error:  0.38549284182870125\n",
      "Iteration:  2900  Error:  0.3233724097336914\n",
      "Iteration:  3000  Error:  0.22569087598595305\n",
      "Iteration:  3100  Error:  0.11538082770046709\n",
      "Iteration:  3200  Error:  0.04102382106939435\n",
      "Iteration:  3300  Error:  0.010945429038017512\n",
      "Iteration:  3400  Error:  0.0024664282673515754\n",
      "Iteration:  3500  Error:  0.0005108756490164678\n",
      "Iteration:  3600  Error:  0.00010176557181306376\n",
      "Iteration:  3700  Error:  1.9918247219269593e-05\n",
      "Iteration:  3800  Error:  3.868171677010582e-06\n",
      "Iteration:  3900  Error:  7.486156144531714e-07\n",
      "Iteration:  4000  Error:  1.4466053337256466e-07\n",
      "Iteration:  4100  Error:  2.7935077130781165e-08\n",
      "Iteration:  4200  Error:  5.392889885641584e-09\n",
      "Iteration:  4300  Error:  1.0409668704361838e-09\n",
      "Iteration:  4400  Error:  2.009220092169423e-10\n",
      "Iteration:  4500  Error:  3.8779949733596975e-11\n",
      "Iteration:  4600  Error:  7.484834345396732e-12\n",
      "Iteration:  4700  Error:  1.444624729292719e-12\n",
      "Iteration:  4800  Error:  2.7882195946712127e-13\n",
      "Iteration:  4900  Error:  5.3814399583361336e-14\n"
     ]
    }
   ],
   "source": [
    "niterations = 5000\n",
    "eta = 0.25 # learning rate \n",
    "# training loop \n",
    "beta = 1 \n",
    "for n in range(niterations):\n",
    "    \n",
    "    ## forward phase\n",
    "    hidden = np.dot(inputs,weights1) \n",
    "    hidden = 1.0/(1.0+np.exp(-beta*hidden)) # activation fucntion: sigmoid function (4.5)\n",
    "    hidden = np.concatenate((hidden,-np.ones((np.shape(inputs)[0],1))),axis=1) # adding bias\n",
    "    \n",
    "    # the output neuron is linear \n",
    "    outputs = np.dot( hidden, weights2)\n",
    "    \n",
    "    \n",
    "    \n",
    "    # compute the error using the sum-of-squares error function\n",
    "    error = 0.5*np.sum((outputs-targets)**2)\n",
    "    if (n % 100) == 0:\n",
    "        print(\"Iteration: \",n, \" Error: \",error) \n",
    "    \n",
    "    ## backward phase \n",
    "    deltao = (outputs-targets)/ndata # because the output layer is linear     \n",
    "    deltah = hidden*beta*(1.0-hidden)*(np.dot(deltao,np.transpose(weights2))) # (4.9)\n",
    "    \n",
    "    # updating the weights \n",
    "    updatew1 = eta*(np.dot(np.transpose(inputs),deltah[:,:-1])) \n",
    "    updatew2 = eta*(np.dot(np.transpose(hidden),deltao))\n",
    "    \n",
    "    \n",
    "    weights1 -= updatew1\n",
    "    weights2 -= updatew2"
   ]
  },
  {
   "cell_type": "code",
   "execution_count": 13,
   "metadata": {
    "scrolled": true
   },
   "outputs": [
    {
     "data": {
      "text/plain": [
       "array([[0],\n",
       "       [1],\n",
       "       [1],\n",
       "       [0]])"
      ]
     },
     "execution_count": 13,
     "metadata": {},
     "output_type": "execute_result"
    }
   ],
   "source": [
    "outputs = np.where(outputs>0.5,1,0)\n",
    "outputs"
   ]
  }
 ],
 "metadata": {
  "kernelspec": {
   "display_name": "Python 3",
   "language": "python",
   "name": "python3"
  },
  "language_info": {
   "codemirror_mode": {
    "name": "ipython",
    "version": 3
   },
   "file_extension": ".py",
   "mimetype": "text/x-python",
   "name": "python",
   "nbconvert_exporter": "python",
   "pygments_lexer": "ipython3",
   "version": "3.6.12"
  }
 },
 "nbformat": 4,
 "nbformat_minor": 4
}
